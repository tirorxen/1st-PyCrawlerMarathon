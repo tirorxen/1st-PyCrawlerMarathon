{
 "cells": [
  {
   "cell_type": "markdown",
   "metadata": {},
   "source": [
    "# Python 下載XML檔案與解析\n",
    "\n",
    "\n",
    "* 了解 xml 檔案格式與內容\n",
    "* 能夠利用套件存取 xml 格式的檔案\n"
   ]
  },
  {
   "cell_type": "markdown",
   "metadata": {},
   "source": [
    "## 作業目標\n",
    "\n",
    "* 比較一下範例檔案中的「File I/O」與「xmltodict」讀出來的內容有什麼差異\n",
    "\n",
    "* 根據範例檔案的結果：\n",
    "    1. 請問高雄市有多少地區有溫度資料？\n",
    "    2. 請取出每一個地區所記錄的第一個時間點跟溫度\n",
    "    3. 請取出第一個地區所記錄的每一個時間點跟溫度"
   ]
  },
  {
   "cell_type": "code",
   "execution_count": 1,
   "metadata": {},
   "outputs": [],
   "source": [
    "# My Code\n",
    "\n",
    "# Download File\n",
    "import urllib.request\n",
    "import zipfile\n",
    "\n",
    "downloadURL = \"http://opendata.cwb.gov.tw/govdownload?dataid=F-D0047-093&authorizationkey=rdec-key-123-45678-011121314\"\n",
    "urllib.request.urlretrieve(downloadURL, \"./data/Day003_Data/example.zip\")\n",
    "file = zipfile.ZipFile('./data/Day003_Data/example.zip')\n",
    "file.extractall('./data/Day003_Data')"
   ]
  },
  {
   "cell_type": "markdown",
   "metadata": {},
   "source": [
    "### 比較一下範例檔案中的「File I/O」與「xmltodict」讀出來的內容有什麼差異\n"
   ]
  },
  {
   "cell_type": "markdown",
   "metadata": {},
   "source": [
    "### File I/O\n",
    "-  File I/O 開出來的檔案是str類型，須以slice的方式找到特定資訊"
   ]
  },
  {
   "cell_type": "code",
   "execution_count": 34,
   "metadata": {},
   "outputs": [
    {
     "name": "stdout",
     "output_type": "stream",
     "text": [
      "<class 'str'> \n",
      "\n",
      "<?xml version=\"1.0\" encoding=\"utf-8\"?>\n",
      "<cwbopendata xmlns=\"urn:cwb:gov:tw:cwbcommon:0.1\">\n",
      "  <identifier>21120e6c-69ef-4297-bd06-1438bb8d59a7</identifier>\n",
      "  <sender>weather@cwb.gov.tw</sender>\n",
      "  <sent>2019-12-04T12:21:10+08:00</sent>\n",
      "  <status>Actual</status>\n",
      "  <scope>Public</scope>\n",
      "  <msgType>Issue</msgType>\n",
      "  <dataid>D0047-091</dataid>\n",
      "  <source>MFC</source>\n",
      "  <dataset>\n",
      "    <datasetInfo>\n",
      "      <datasetDescription>臺灣各縣市鄉鎮未來1週逐12小時天氣預報</datasetDescription>\n",
      "      <datasetLanguage>zh-TW</datasetLanguage>\n",
      "      <issueTime>2019-12-04T11:00:00+08:00</issueTime>\n",
      "      <validTime>\n",
      "        <startTime>2019-12-04T12:00:00+08:00</startTime>\n",
      "        <endTime>2019-12-12T11:00:00+08:00</endTime>\n",
      "      </validTime>\n",
      "      <update>2019-12-04T12:21:10+08:00</update>\n",
      "    </datasetInfo>\n",
      "    <locations>\n",
      "      <locationsName>台灣</locationsName>\n",
      "      <location>\n",
      "        <locationName>連江縣</locationName>\n",
      "        <geocode>09007</geocode>\n",
      "        <lat>26.154204</lat>\n",
      "        <lon>119.929303</lon>\n",
      "        <weatherE\n"
     ]
    }
   ],
   "source": [
    "# My Code\n",
    "\n",
    "# Read the File\n",
    "content = open(\"./data/Day003_Data/TAIWAN_Weekday_CH.xml\", \"r\", encoding=\"utf-8\")\n",
    "xml = content.read()\n",
    "content.close()\n",
    "\n",
    "print(type(xml),'\\n')\n",
    "print(xml[:1000])"
   ]
  },
  {
   "cell_type": "code",
   "execution_count": 30,
   "metadata": {},
   "outputs": [
    {
     "name": "stdout",
     "output_type": "stream",
     "text": [
      "      <datasetDescription>臺灣各縣市鄉鎮未來1週逐12小時天氣預報</datasetDescription>\n",
      "      <datasetLanguage>zh-TW</datasetLanguage>\n",
      "      <issueTime>2019-12-04T11:00:00+08:00</issueTime>\n",
      "      <validTime>\n",
      "        <startTime>2019-12-04T12:00:00+08:00</startTime>\n",
      "        <endTime>2019-12-12T11:00:00+08:00</endTime>\n",
      "      </validTime>\n",
      "      <update>2019-12-04T12:21:10+08:00\n"
     ]
    }
   ],
   "source": [
    "print(xml[392:748])"
   ]
  },
  {
   "cell_type": "markdown",
   "metadata": {},
   "source": [
    "### xmltodict\n",
    "-  xmltodict 開出來的檔案是dict類型，可以鍵(key)找到特定資訊"
   ]
  },
  {
   "cell_type": "code",
   "execution_count": 35,
   "metadata": {},
   "outputs": [
    {
     "name": "stdout",
     "output_type": "stream",
     "text": [
      "<class 'collections.OrderedDict'> \n",
      "\n"
     ]
    },
    {
     "data": {
      "text/plain": [
       "{'datasetDescription': '臺灣各縣市鄉鎮未來1週逐12小時天氣預報',\n",
       " 'datasetLanguage': 'zh-TW',\n",
       " 'issueTime': '2019-12-04T11:00:00+08:00',\n",
       " 'validTime': OrderedDict([('startTime', '2019-12-04T12:00:00+08:00'),\n",
       "              ('endTime', '2019-12-12T11:00:00+08:00')]),\n",
       " 'update': '2019-12-04T12:21:10+08:00'}"
      ]
     },
     "execution_count": 35,
     "metadata": {},
     "output_type": "execute_result"
    }
   ],
   "source": [
    "# My Code\n",
    "\n",
    "import xmltodict\n",
    "\n",
    "print(type(xmltodict.parse(xml)),'\\n')\n",
    "\n",
    "dict(xmltodict.parse(xml)['cwbopendata']['dataset']['datasetInfo'])"
   ]
  },
  {
   "cell_type": "markdown",
   "metadata": {},
   "source": [
    "### 根據範例檔案的結果：\n",
    "\n",
    "1. 請問高雄市有多少地區有溫度資料？\n",
    "2. 請取出每一個地區所記錄的第一個時間點跟溫度\n",
    "3. 請取出第一個地區所記錄的每一個時間點跟溫度"
   ]
  },
  {
   "cell_type": "code",
   "execution_count": 15,
   "metadata": {},
   "outputs": [
    {
     "name": "stdout",
     "output_type": "stream",
     "text": [
      "高雄市共有 38 區有溫度資料\n"
     ]
    }
   ],
   "source": [
    "# 1. 請問高雄市有多少地區有溫度資料？\n",
    "\n",
    "# My Code\n",
    "import os\n",
    "files = os.listdir('./data/Day003_Data')\n",
    "\n",
    "for file in files:\n",
    "    \n",
    "    if 'CH' in file:\n",
    "        \n",
    "        with open(\"./data/Day003_Data/\" + file, encoding='utf-8') as file:\n",
    "            data = dict(xmltodict.parse(file.read()))\n",
    "            city = data['cwbopendata']['dataset']['locations']['locationsName']\n",
    "            \n",
    "            if '高雄市' in city:\n",
    "                areas = data['cwbopendata']['dataset']['locations']['location']\n",
    "                print('高雄市共有 ' + str(len(areas)) + \" 區有溫度資料\")   # area[x] --> different x, different areas\n",
    "                break"
   ]
  },
  {
   "cell_type": "code",
   "execution_count": 24,
   "metadata": {},
   "outputs": [
    {
     "name": "stdout",
     "output_type": "stream",
     "text": [
      "鹽埕區 : 2019-12-04T12:00:00+08:00  溫度為 22(攝氏度)\n",
      "鼓山區 : 2019-12-04T12:00:00+08:00  溫度為 22(攝氏度)\n",
      "左營區 : 2019-12-04T12:00:00+08:00  溫度為 21(攝氏度)\n",
      "楠梓區 : 2019-12-04T12:00:00+08:00  溫度為 21(攝氏度)\n",
      "三民區 : 2019-12-04T12:00:00+08:00  溫度為 21(攝氏度)\n",
      "新興區 : 2019-12-04T12:00:00+08:00  溫度為 22(攝氏度)\n",
      "前金區 : 2019-12-04T12:00:00+08:00  溫度為 22(攝氏度)\n",
      "苓雅區 : 2019-12-04T12:00:00+08:00  溫度為 22(攝氏度)\n",
      "前鎮區 : 2019-12-04T12:00:00+08:00  溫度為 22(攝氏度)\n",
      "旗津區 : 2019-12-04T12:00:00+08:00  溫度為 22(攝氏度)\n",
      "小港區 : 2019-12-04T12:00:00+08:00  溫度為 23(攝氏度)\n",
      "鳳山區 : 2019-12-04T12:00:00+08:00  溫度為 22(攝氏度)\n",
      "林園區 : 2019-12-04T12:00:00+08:00  溫度為 23(攝氏度)\n",
      "大寮區 : 2019-12-04T12:00:00+08:00  溫度為 22(攝氏度)\n",
      "大樹區 : 2019-12-04T12:00:00+08:00  溫度為 22(攝氏度)\n",
      "大社區 : 2019-12-04T12:00:00+08:00  溫度為 21(攝氏度)\n",
      "仁武區 : 2019-12-04T12:00:00+08:00  溫度為 21(攝氏度)\n",
      "鳥松區 : 2019-12-04T12:00:00+08:00  溫度為 22(攝氏度)\n",
      "岡山區 : 2019-12-04T12:00:00+08:00  溫度為 21(攝氏度)\n",
      "橋頭區 : 2019-12-04T12:00:00+08:00  溫度為 22(攝氏度)\n",
      "燕巢區 : 2019-12-04T12:00:00+08:00  溫度為 21(攝氏度)\n",
      "田寮區 : 2019-12-04T12:00:00+08:00  溫度為 21(攝氏度)\n",
      "阿蓮區 : 2019-12-04T12:00:00+08:00  溫度為 21(攝氏度)\n",
      "路竹區 : 2019-12-04T12:00:00+08:00  溫度為 22(攝氏度)\n",
      "湖內區 : 2019-12-04T12:00:00+08:00  溫度為 21(攝氏度)\n",
      "茄萣區 : 2019-12-04T12:00:00+08:00  溫度為 21(攝氏度)\n",
      "永安區 : 2019-12-04T12:00:00+08:00  溫度為 21(攝氏度)\n",
      "彌陀區 : 2019-12-04T12:00:00+08:00  溫度為 21(攝氏度)\n",
      "梓官區 : 2019-12-04T12:00:00+08:00  溫度為 21(攝氏度)\n",
      "旗山區 : 2019-12-04T12:00:00+08:00  溫度為 21(攝氏度)\n",
      "美濃區 : 2019-12-04T12:00:00+08:00  溫度為 21(攝氏度)\n",
      "六龜區 : 2019-12-04T12:00:00+08:00  溫度為 21(攝氏度)\n",
      "甲仙區 : 2019-12-04T12:00:00+08:00  溫度為 21(攝氏度)\n",
      "杉林區 : 2019-12-04T12:00:00+08:00  溫度為 23(攝氏度)\n",
      "內門區 : 2019-12-04T12:00:00+08:00  溫度為 21(攝氏度)\n",
      "茂林區 : 2019-12-04T12:00:00+08:00  溫度為 22(攝氏度)\n",
      "桃源區 : 2019-12-04T12:00:00+08:00  溫度為 22(攝氏度)\n",
      "那瑪夏區 : 2019-12-04T12:00:00+08:00  溫度為 20(攝氏度)\n"
     ]
    }
   ],
   "source": [
    "# 2. 請取出每一個地區所記錄的第一個時間點跟溫度\n",
    "\n",
    "# My Code\n",
    "for area in areas:\n",
    "    areaName = area['locationName'] + ' : '\n",
    "    \n",
    "    for item in area['weatherElement']:\n",
    "        if (item['description'] == '溫度'):\n",
    "            data = item['time'][0]            \n",
    "            time = data['dataTime']\n",
    "            value = data['elementValue']['value']\n",
    "            measures = data['elementValue']['measures']\n",
    "            print(areaName + str(time) + \"  溫度為 \" + str(value) + \"(\"+measures+\")\")"
   ]
  },
  {
   "cell_type": "code",
   "execution_count": 27,
   "metadata": {},
   "outputs": [
    {
     "name": "stdout",
     "output_type": "stream",
     "text": [
      "鹽埕區 : \n",
      "2019-12-04T12:00:00+08:00  溫度為 22(攝氏度)\n",
      "2019-12-04T15:00:00+08:00  溫度為 22(攝氏度)\n",
      "2019-12-04T18:00:00+08:00  溫度為 21(攝氏度)\n",
      "2019-12-04T21:00:00+08:00  溫度為 19(攝氏度)\n",
      "2019-12-05T00:00:00+08:00  溫度為 18(攝氏度)\n",
      "2019-12-05T03:00:00+08:00  溫度為 17(攝氏度)\n",
      "2019-12-05T06:00:00+08:00  溫度為 17(攝氏度)\n",
      "2019-12-05T09:00:00+08:00  溫度為 18(攝氏度)\n",
      "2019-12-05T12:00:00+08:00  溫度為 21(攝氏度)\n",
      "2019-12-05T15:00:00+08:00  溫度為 22(攝氏度)\n",
      "2019-12-05T18:00:00+08:00  溫度為 20(攝氏度)\n",
      "2019-12-05T21:00:00+08:00  溫度為 19(攝氏度)\n",
      "2019-12-06T00:00:00+08:00  溫度為 18(攝氏度)\n",
      "2019-12-06T03:00:00+08:00  溫度為 17(攝氏度)\n",
      "2019-12-06T06:00:00+08:00  溫度為 17(攝氏度)\n",
      "2019-12-06T09:00:00+08:00  溫度為 17(攝氏度)\n",
      "2019-12-06T12:00:00+08:00  溫度為 19(攝氏度)\n",
      "2019-12-06T15:00:00+08:00  溫度為 20(攝氏度)\n",
      "2019-12-06T18:00:00+08:00  溫度為 18(攝氏度)\n",
      "2019-12-06T21:00:00+08:00  溫度為 17(攝氏度)\n",
      "2019-12-07T00:00:00+08:00  溫度為 16(攝氏度)\n",
      "2019-12-07T03:00:00+08:00  溫度為 16(攝氏度)\n",
      "2019-12-07T06:00:00+08:00  溫度為 16(攝氏度)\n",
      "2019-12-07T09:00:00+08:00  溫度為 17(攝氏度)\n"
     ]
    }
   ],
   "source": [
    "# 3. 請取出第一個地區所記錄的每一個時間點跟溫度\n",
    "\n",
    "# My Code\n",
    "firstAreaName = areas[0]\n",
    "print(firstAreaName['locationName'] + ' : ')\n",
    "\n",
    "for item in firstArea['weatherElement']:\n",
    "    if (item['description'] == '溫度'):\n",
    "        allData = item['time']\n",
    "        \n",
    "        for data in allData:\n",
    "            dataTime = data['dataTime']\n",
    "            value = data['elementValue']['value']\n",
    "            measures = data['elementValue']['measures']\n",
    "            print(str(dataTime) + \"  溫度為 \" + str(value) + \"(\"+measures+\")\")"
   ]
  }
 ],
 "metadata": {
  "kernelspec": {
   "display_name": "Python 3",
   "language": "python",
   "name": "python3"
  },
  "language_info": {
   "codemirror_mode": {
    "name": "ipython",
    "version": 3
   },
   "file_extension": ".py",
   "mimetype": "text/x-python",
   "name": "python",
   "nbconvert_exporter": "python",
   "pygments_lexer": "ipython3",
   "version": "3.7.1"
  }
 },
 "nbformat": 4,
 "nbformat_minor": 2
}
